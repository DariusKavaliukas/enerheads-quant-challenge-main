{
 "cells": [
  {
   "cell_type": "code",
   "execution_count": 29,
   "metadata": {},
   "outputs": [],
   "source": [
    "import pandas as pd\n",
    "import glob "
   ]
  },
  {
   "cell_type": "code",
   "execution_count": 30,
   "metadata": {},
   "outputs": [],
   "source": [
    "meteo_files = glob.glob(\"data/openmeteo_location*.{}\".format(\"csv\"))\n",
    "meteo_joined = []\n",
    "\n",
    "for file in meteo_files:\n",
    "    df = pd.read_csv(file, parse_dates=[\"date\"])\n",
    "    df = df.set_index(\"date\").resample('15min').ffill().reset_index()\n",
    "    meteo_joined.append(df)\n",
    "\n",
    "meteo_data = pd.concat(meteo_joined, ignore_index=True)\n",
    "\n",
    "meteo_data[\"temperature_delta\"] = meteo_data[\"temperature_2m\"] - meteo_data[\"temperature_2m_previous_day1\"]\n",
    "meteo_data[\"direct_normal_irradiance_delta\"] = meteo_data[\"direct_normal_irradiance_instant\"] - meteo_data[\"direct_normal_irradiance_instant_previous_day1\"]\n",
    "meteo_data[\"shortwave_radiation_delta\"] = meteo_data[\"shortwave_radiation\"] - meteo_data[\"shortwave_radiation_previous_day1\"]\n",
    "meteo_data[\"wind_speed_80m_delta\"] = meteo_data[\"wind_speed_80m\"] - meteo_data[\"wind_speed_80m_previous_day1\"]\n",
    "meteo_data[\"wind_direction_80m_delta\"] = meteo_data[\"wind_direction_80m\"] - meteo_data[\"wind_direction_80m_previous_day1\"]\n",
    "\n",
    "meteo_data[\"date\"] = meteo_data[\"date\"].dt.tz_convert('EET')\n",
    "meteo_data[\"date\"] = meteo_data[\"date\"].dt.tz_localize(None)\n",
    "meteo_data = meteo_data.drop(columns=['Unnamed: 0'])\n",
    "\n",
    "\n",
    "spot_balancing = pd.read_csv(\"data/spot_balancing_2025Q1.csv\")\n",
    "spot_balancing[\"date\"] = pd.to_datetime(spot_balancing[\"date\"], format=\"%Y-%m-%d %H:%M:%S\")\n",
    "\n",
    "spot_balancing = spot_balancing[[\"date\", \"LT_imb_MW\", \"LT_mfrr_SA_up_activ\", \n",
    "                                 \"LT_mfrr_SA_down_activ\", \"10YLT-1001A0008Q_DA_eurmwh\"]]\n",
    "\n",
    "\n",
    "merged_data = pd.merge(spot_balancing, meteo_data, on=\"date\", how=\"inner\")\n",
    "\n",
    "merged_data.to_csv(\"merged_data.csv\", index=False)"
   ]
  },
  {
   "cell_type": "code",
   "execution_count": 31,
   "metadata": {},
   "outputs": [
    {
     "data": {
      "text/plain": [
       "Index(['date', 'LT_imb_MW', 'LT_mfrr_SA_up_activ', 'LT_mfrr_SA_down_activ',\n",
       "       '10YLT-1001A0008Q_DA_eurmwh', 'temperature_2m',\n",
       "       'temperature_2m_previous_day1', 'direct_normal_irradiance_instant',\n",
       "       'direct_normal_irradiance_instant_previous_day1', 'shortwave_radiation',\n",
       "       'shortwave_radiation_previous_day1', 'wind_speed_80m',\n",
       "       'wind_speed_80m_previous_day1', 'wind_direction_80m',\n",
       "       'wind_direction_80m_previous_day1', 'latitude', 'longitude',\n",
       "       'temperature_delta', 'direct_normal_irradiance_delta',\n",
       "       'shortwave_radiation_delta', 'wind_speed_80m_delta',\n",
       "       'wind_direction_80m_delta'],\n",
       "      dtype='object')"
      ]
     },
     "execution_count": 31,
     "metadata": {},
     "output_type": "execute_result"
    }
   ],
   "source": [
    "merged_data.columns\n"
   ]
  }
 ],
 "metadata": {
  "kernelspec": {
   "display_name": "Python 3",
   "language": "python",
   "name": "python3"
  },
  "language_info": {
   "codemirror_mode": {
    "name": "ipython",
    "version": 3
   },
   "file_extension": ".py",
   "mimetype": "text/x-python",
   "name": "python",
   "nbconvert_exporter": "python",
   "pygments_lexer": "ipython3",
   "version": "3.13.0"
  }
 },
 "nbformat": 4,
 "nbformat_minor": 2
}
